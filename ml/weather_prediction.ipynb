{
 "cells": [
  {
   "cell_type": "code",
   "execution_count": 18,
   "id": "a779c752",
   "metadata": {},
   "outputs": [],
   "source": [
    "import pandas as pd \n",
    "import numpy as np \n",
    "\n",
    "\n",
    "pd.set_option(\"display.max_columns\", None)"
   ]
  },
  {
   "cell_type": "code",
   "execution_count": 19,
   "id": "5bd75543",
   "metadata": {},
   "outputs": [],
   "source": [
    "weather_df = pd.read_csv(\"./data/weather.csv\", index_col='DATE')"
   ]
  },
  {
   "cell_type": "code",
   "execution_count": 20,
   "id": "335679ae",
   "metadata": {},
   "outputs": [
    {
     "data": {
      "text/html": [
       "<div>\n",
       "<style scoped>\n",
       "    .dataframe tbody tr th:only-of-type {\n",
       "        vertical-align: middle;\n",
       "    }\n",
       "\n",
       "    .dataframe tbody tr th {\n",
       "        vertical-align: top;\n",
       "    }\n",
       "\n",
       "    .dataframe thead th {\n",
       "        text-align: right;\n",
       "    }\n",
       "</style>\n",
       "<table border=\"1\" class=\"dataframe\">\n",
       "  <thead>\n",
       "    <tr style=\"text-align: right;\">\n",
       "      <th></th>\n",
       "      <th>STATION</th>\n",
       "      <th>NAME</th>\n",
       "      <th>ACMH</th>\n",
       "      <th>ACSH</th>\n",
       "      <th>AWND</th>\n",
       "      <th>FMTM</th>\n",
       "      <th>PGTM</th>\n",
       "      <th>PRCP</th>\n",
       "      <th>SNOW</th>\n",
       "      <th>SNWD</th>\n",
       "      <th>TAVG</th>\n",
       "      <th>TMAX</th>\n",
       "      <th>TMIN</th>\n",
       "      <th>TSUN</th>\n",
       "      <th>WDF1</th>\n",
       "      <th>WDF2</th>\n",
       "      <th>WDF5</th>\n",
       "      <th>WDFG</th>\n",
       "      <th>WDFM</th>\n",
       "      <th>WESD</th>\n",
       "      <th>WSF1</th>\n",
       "      <th>WSF2</th>\n",
       "      <th>WSF5</th>\n",
       "      <th>WSFG</th>\n",
       "      <th>WSFM</th>\n",
       "      <th>WT01</th>\n",
       "      <th>WT02</th>\n",
       "      <th>WT03</th>\n",
       "      <th>WT04</th>\n",
       "      <th>WT05</th>\n",
       "      <th>WT06</th>\n",
       "      <th>WT07</th>\n",
       "      <th>WT08</th>\n",
       "      <th>WT09</th>\n",
       "      <th>WT11</th>\n",
       "      <th>WT13</th>\n",
       "      <th>WT14</th>\n",
       "      <th>WT15</th>\n",
       "      <th>WT16</th>\n",
       "      <th>WT17</th>\n",
       "      <th>WT18</th>\n",
       "      <th>WT21</th>\n",
       "      <th>WT22</th>\n",
       "      <th>WV01</th>\n",
       "    </tr>\n",
       "    <tr>\n",
       "      <th>DATE</th>\n",
       "      <th></th>\n",
       "      <th></th>\n",
       "      <th></th>\n",
       "      <th></th>\n",
       "      <th></th>\n",
       "      <th></th>\n",
       "      <th></th>\n",
       "      <th></th>\n",
       "      <th></th>\n",
       "      <th></th>\n",
       "      <th></th>\n",
       "      <th></th>\n",
       "      <th></th>\n",
       "      <th></th>\n",
       "      <th></th>\n",
       "      <th></th>\n",
       "      <th></th>\n",
       "      <th></th>\n",
       "      <th></th>\n",
       "      <th></th>\n",
       "      <th></th>\n",
       "      <th></th>\n",
       "      <th></th>\n",
       "      <th></th>\n",
       "      <th></th>\n",
       "      <th></th>\n",
       "      <th></th>\n",
       "      <th></th>\n",
       "      <th></th>\n",
       "      <th></th>\n",
       "      <th></th>\n",
       "      <th></th>\n",
       "      <th></th>\n",
       "      <th></th>\n",
       "      <th></th>\n",
       "      <th></th>\n",
       "      <th></th>\n",
       "      <th></th>\n",
       "      <th></th>\n",
       "      <th></th>\n",
       "      <th></th>\n",
       "      <th></th>\n",
       "      <th></th>\n",
       "      <th></th>\n",
       "    </tr>\n",
       "  </thead>\n",
       "  <tbody>\n",
       "    <tr>\n",
       "      <th>1970-01-01</th>\n",
       "      <td>USW00094789</td>\n",
       "      <td>JFK INTERNATIONAL AIRPORT, NY US</td>\n",
       "      <td>80.0</td>\n",
       "      <td>90.0</td>\n",
       "      <td>NaN</td>\n",
       "      <td>NaN</td>\n",
       "      <td>NaN</td>\n",
       "      <td>0.0</td>\n",
       "      <td>0.0</td>\n",
       "      <td>0.0</td>\n",
       "      <td>NaN</td>\n",
       "      <td>28</td>\n",
       "      <td>22</td>\n",
       "      <td>NaN</td>\n",
       "      <td>330.0</td>\n",
       "      <td>NaN</td>\n",
       "      <td>NaN</td>\n",
       "      <td>NaN</td>\n",
       "      <td>NaN</td>\n",
       "      <td>NaN</td>\n",
       "      <td>14.1</td>\n",
       "      <td>NaN</td>\n",
       "      <td>NaN</td>\n",
       "      <td>NaN</td>\n",
       "      <td>NaN</td>\n",
       "      <td>NaN</td>\n",
       "      <td>NaN</td>\n",
       "      <td>NaN</td>\n",
       "      <td>NaN</td>\n",
       "      <td>NaN</td>\n",
       "      <td>NaN</td>\n",
       "      <td>NaN</td>\n",
       "      <td>1.0</td>\n",
       "      <td>NaN</td>\n",
       "      <td>NaN</td>\n",
       "      <td>NaN</td>\n",
       "      <td>NaN</td>\n",
       "      <td>NaN</td>\n",
       "      <td>NaN</td>\n",
       "      <td>NaN</td>\n",
       "      <td>NaN</td>\n",
       "      <td>NaN</td>\n",
       "      <td>NaN</td>\n",
       "      <td>NaN</td>\n",
       "    </tr>\n",
       "    <tr>\n",
       "      <th>1970-01-02</th>\n",
       "      <td>USW00094789</td>\n",
       "      <td>JFK INTERNATIONAL AIRPORT, NY US</td>\n",
       "      <td>30.0</td>\n",
       "      <td>20.0</td>\n",
       "      <td>NaN</td>\n",
       "      <td>NaN</td>\n",
       "      <td>NaN</td>\n",
       "      <td>0.0</td>\n",
       "      <td>0.0</td>\n",
       "      <td>0.0</td>\n",
       "      <td>NaN</td>\n",
       "      <td>31</td>\n",
       "      <td>22</td>\n",
       "      <td>NaN</td>\n",
       "      <td>290.0</td>\n",
       "      <td>NaN</td>\n",
       "      <td>NaN</td>\n",
       "      <td>NaN</td>\n",
       "      <td>NaN</td>\n",
       "      <td>NaN</td>\n",
       "      <td>17.9</td>\n",
       "      <td>NaN</td>\n",
       "      <td>NaN</td>\n",
       "      <td>NaN</td>\n",
       "      <td>NaN</td>\n",
       "      <td>NaN</td>\n",
       "      <td>NaN</td>\n",
       "      <td>NaN</td>\n",
       "      <td>NaN</td>\n",
       "      <td>NaN</td>\n",
       "      <td>NaN</td>\n",
       "      <td>NaN</td>\n",
       "      <td>NaN</td>\n",
       "      <td>NaN</td>\n",
       "      <td>NaN</td>\n",
       "      <td>NaN</td>\n",
       "      <td>NaN</td>\n",
       "      <td>NaN</td>\n",
       "      <td>NaN</td>\n",
       "      <td>NaN</td>\n",
       "      <td>NaN</td>\n",
       "      <td>NaN</td>\n",
       "      <td>NaN</td>\n",
       "      <td>NaN</td>\n",
       "    </tr>\n",
       "  </tbody>\n",
       "</table>\n",
       "</div>"
      ],
      "text/plain": [
       "                STATION                              NAME  ACMH  ACSH  AWND  \\\n",
       "DATE                                                                          \n",
       "1970-01-01  USW00094789  JFK INTERNATIONAL AIRPORT, NY US  80.0  90.0   NaN   \n",
       "1970-01-02  USW00094789  JFK INTERNATIONAL AIRPORT, NY US  30.0  20.0   NaN   \n",
       "\n",
       "            FMTM  PGTM  PRCP  SNOW  SNWD  TAVG  TMAX  TMIN  TSUN   WDF1  WDF2  \\\n",
       "DATE                                                                            \n",
       "1970-01-01   NaN   NaN   0.0   0.0   0.0   NaN    28    22   NaN  330.0   NaN   \n",
       "1970-01-02   NaN   NaN   0.0   0.0   0.0   NaN    31    22   NaN  290.0   NaN   \n",
       "\n",
       "            WDF5  WDFG  WDFM  WESD  WSF1  WSF2  WSF5  WSFG  WSFM  WT01  WT02  \\\n",
       "DATE                                                                           \n",
       "1970-01-01   NaN   NaN   NaN   NaN  14.1   NaN   NaN   NaN   NaN   NaN   NaN   \n",
       "1970-01-02   NaN   NaN   NaN   NaN  17.9   NaN   NaN   NaN   NaN   NaN   NaN   \n",
       "\n",
       "            WT03  WT04  WT05  WT06  WT07  WT08  WT09  WT11  WT13  WT14  WT15  \\\n",
       "DATE                                                                           \n",
       "1970-01-01   NaN   NaN   NaN   NaN   NaN   1.0   NaN   NaN   NaN   NaN   NaN   \n",
       "1970-01-02   NaN   NaN   NaN   NaN   NaN   NaN   NaN   NaN   NaN   NaN   NaN   \n",
       "\n",
       "            WT16  WT17  WT18  WT21  WT22  WV01  \n",
       "DATE                                            \n",
       "1970-01-01   NaN   NaN   NaN   NaN   NaN   NaN  \n",
       "1970-01-02   NaN   NaN   NaN   NaN   NaN   NaN  "
      ]
     },
     "execution_count": 20,
     "metadata": {},
     "output_type": "execute_result"
    }
   ],
   "source": [
    "weather_df.head(2)"
   ]
  },
  {
   "cell_type": "code",
   "execution_count": 21,
   "id": "e1c9aaac",
   "metadata": {},
   "outputs": [
    {
     "data": {
      "text/plain": [
       "STATION    0.000000\n",
       "NAME       0.000000\n",
       "ACMH       0.501478\n",
       "ACSH       0.501426\n",
       "AWND       0.265256\n",
       "FMTM       0.475087\n",
       "PGTM       0.363872\n",
       "PRCP       0.000000\n",
       "SNOW       0.000000\n",
       "SNWD       0.000104\n",
       "TAVG       0.680406\n",
       "TMAX       0.000000\n",
       "TMIN       0.000000\n",
       "TSUN       0.998393\n",
       "WDF1       0.501685\n",
       "WDF2       0.498678\n",
       "WDF5       0.502981\n",
       "WDFG       0.734484\n",
       "WDFM       0.999948\n",
       "WESD       0.685228\n",
       "WSF1       0.501530\n",
       "WSF2       0.498678\n",
       "WSF5       0.503033\n",
       "WSFG       0.613055\n",
       "WSFM       0.999948\n",
       "WT01       0.630217\n",
       "WT02       0.935034\n",
       "WT03       0.933271\n",
       "WT04       0.982579\n",
       "WT05       0.981127\n",
       "WT06       0.990615\n",
       "WT07       0.994400\n",
       "WT08       0.796962\n",
       "WT09       0.992741\n",
       "WT11       0.999274\n",
       "WT13       0.886711\n",
       "WT14       0.954010\n",
       "WT15       0.997822\n",
       "WT16       0.658993\n",
       "WT17       0.996889\n",
       "WT18       0.939493\n",
       "WT21       0.999741\n",
       "WT22       0.997459\n",
       "WV01       0.999948\n",
       "dtype: float64"
      ]
     },
     "execution_count": 21,
     "metadata": {},
     "output_type": "execute_result"
    }
   ],
   "source": [
    "null_pct = weather_df.apply(pd.isnull).sum() / weather_df.shape[0]\n",
    "\n",
    "null_pct"
   ]
  },
  {
   "cell_type": "code",
   "execution_count": 22,
   "id": "c8341083",
   "metadata": {},
   "outputs": [
    {
     "data": {
      "text/plain": [
       "Index(['STATION', 'NAME', 'PRCP', 'SNOW', 'SNWD', 'TMAX', 'TMIN'], dtype='object')"
      ]
     },
     "execution_count": 22,
     "metadata": {},
     "output_type": "execute_result"
    }
   ],
   "source": [
    "valid_columns = weather_df.columns[null_pct <= .05]\n",
    "\n",
    "valid_columns"
   ]
  },
  {
   "cell_type": "code",
   "execution_count": 23,
   "id": "2da249c4",
   "metadata": {},
   "outputs": [],
   "source": [
    "weather_df = weather_df[valid_columns].copy()"
   ]
  },
  {
   "cell_type": "code",
   "execution_count": 24,
   "id": "4cdeaf06",
   "metadata": {},
   "outputs": [],
   "source": [
    "weather_df.columns = weather_df.columns.str.lower()"
   ]
  },
  {
   "cell_type": "code",
   "execution_count": 26,
   "id": "138863e2",
   "metadata": {},
   "outputs": [],
   "source": [
    "weather_df = weather_df.ffill()"
   ]
  },
  {
   "cell_type": "code",
   "execution_count": 27,
   "id": "a366c479",
   "metadata": {},
   "outputs": [
    {
     "data": {
      "text/plain": [
       "station    0\n",
       "name       0\n",
       "prcp       0\n",
       "snow       0\n",
       "snwd       0\n",
       "tmax       0\n",
       "tmin       0\n",
       "dtype: int64"
      ]
     },
     "execution_count": 27,
     "metadata": {},
     "output_type": "execute_result"
    }
   ],
   "source": [
    "weather_df.apply(pd.isnull).sum()"
   ]
  },
  {
   "cell_type": "code",
   "execution_count": 28,
   "id": "69b0f37b",
   "metadata": {},
   "outputs": [],
   "source": [
    "weather_df.index = pd.to_datetime(weather_df.index, errors='coerce', dayfirst=True)"
   ]
  },
  {
   "cell_type": "code",
   "execution_count": 35,
   "id": "291a0a7f",
   "metadata": {},
   "outputs": [],
   "source": [
    "def fahrenheit_to_celsius(f):\n",
    "    return round((f - 32) * 5.0 / 9.0, 2)"
   ]
  },
  {
   "cell_type": "code",
   "execution_count": 36,
   "id": "3e0b281a",
   "metadata": {},
   "outputs": [],
   "source": [
    "weather_df[\"cel_max\"] = weather_df[\"tmax\"].apply(fahrenheit_to_celsius)\n",
    "weather_df[\"cel_min\"] = weather_df[\"tmin\"].apply(fahrenheit_to_celsius)\n"
   ]
  },
  {
   "cell_type": "code",
   "execution_count": 61,
   "id": "997e5de1",
   "metadata": {},
   "outputs": [
    {
     "data": {
      "text/plain": [
       "DATE\n",
       "1970.0    144\n",
       "1971.0    144\n",
       "1972.0    144\n",
       "1973.0    144\n",
       "1974.0    144\n",
       "1975.0    144\n",
       "1976.0    144\n",
       "1977.0    144\n",
       "1978.0    144\n",
       "1979.0    144\n",
       "1980.0    144\n",
       "1981.0    144\n",
       "1982.0    144\n",
       "1983.0    144\n",
       "1984.0    144\n",
       "1985.0    144\n",
       "1986.0    144\n",
       "1987.0    144\n",
       "1988.0    144\n",
       "1989.0    144\n",
       "1990.0    144\n",
       "1991.0    144\n",
       "1992.0    144\n",
       "1993.0    144\n",
       "1994.0    144\n",
       "1995.0    144\n",
       "1996.0    144\n",
       "1997.0    144\n",
       "1998.0    144\n",
       "1999.0    144\n",
       "2000.0    144\n",
       "2001.0    144\n",
       "2002.0    144\n",
       "2003.0    144\n",
       "2004.0    144\n",
       "2005.0    144\n",
       "2006.0    144\n",
       "2007.0    144\n",
       "2008.0    144\n",
       "2009.0    144\n",
       "2010.0    144\n",
       "2011.0    144\n",
       "2012.0    144\n",
       "2013.0    144\n",
       "2014.0    144\n",
       "2015.0    144\n",
       "2016.0    144\n",
       "2017.0    144\n",
       "2018.0    144\n",
       "2019.0    144\n",
       "2020.0    144\n",
       "2021.0    144\n",
       "2022.0    120\n",
       "Name: count, dtype: int64"
      ]
     },
     "execution_count": 61,
     "metadata": {},
     "output_type": "execute_result"
    }
   ],
   "source": [
    "weather_df.index.year.value_counts().sort_index()"
   ]
  },
  {
   "cell_type": "code",
   "execution_count": 64,
   "id": "f41ac90f",
   "metadata": {},
   "outputs": [
    {
     "name": "stdout",
     "output_type": "stream",
     "text": [
      "0.5\n"
     ]
    }
   ],
   "source": [
    "def z_score(x, mean, std):\n",
    "    return (x - mean) / std \n",
    "\n",
    "\n",
    "x = 86\n",
    "mean = 85\n",
    "std = 2.0\n",
    "\n",
    "print(round(z_score(x, mean, std), 2))"
   ]
  }
 ],
 "metadata": {
  "kernelspec": {
   "display_name": "Python 3",
   "language": "python",
   "name": "python3"
  },
  "language_info": {
   "codemirror_mode": {
    "name": "ipython",
    "version": 3
   },
   "file_extension": ".py",
   "mimetype": "text/x-python",
   "name": "python",
   "nbconvert_exporter": "python",
   "pygments_lexer": "ipython3",
   "version": "3.13.1"
  }
 },
 "nbformat": 4,
 "nbformat_minor": 5
}
